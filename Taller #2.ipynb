{
 "cells": [
  {
   "cell_type": "code",
   "execution_count": 1,
   "id": "theoretical-novel",
   "metadata": {},
   "outputs": [],
   "source": [
    "# Taller 2\n",
    "# - [18 pts] Descomprimir el archivo .Zip de Python_books\n",
    "# - [22 pts] Leer cada uno de sus archivos\n",
    "# - [10 pts] Responder ¿Cuál archivo tiene el amyor número de palabras?"
   ]
  },
  {
   "source": [
    "import fitz\n",
    "import os\n",
    "from zipfile import ZipFile\n",
    "import shutil\n",
    "from os import listdir"
   ],
   "cell_type": "code",
   "metadata": {},
   "execution_count": 2,
   "outputs": []
  },
  {
   "cell_type": "code",
   "execution_count": 3,
   "id": "communist-representative",
   "metadata": {},
   "outputs": [],
   "source": [
    "#Descomprimir .ZIP\n",
    "direccionZip = 'python_books.zip'\n",
    "with ZipFile(direccionZip) as archivo:\n",
    "    archivo.extractall(\"taller2/\")\n",
    "#Eliminar carpeta extra\n",
    "shutil.rmtree('taller2/__MACOSX')"
   ]
  },
  {
   "cell_type": "code",
   "execution_count": 4,
   "metadata": {},
   "outputs": [
    {
     "output_type": "stream",
     "name": "stdout",
     "text": [
      "Python  Data Science Cookbook.pdf\nPython - AWS.pdf\nPython - Finance.pdf\n"
     ]
    }
   ],
   "source": [
    "#Contenido en carpeta generada\n",
    "directorio = 'taller2/python_books'\n",
    "contenido = os.listdir(directorio)\n",
    "contenido\n",
    "for i in contenido:\n",
    "    print(i)"
   ]
  },
  {
   "cell_type": "code",
   "execution_count": 6,
   "metadata": {},
   "outputs": [
    {
     "output_type": "stream",
     "name": "stdout",
     "text": [
      "El archivo Python  Data Science Cookbook.pdf contiene un total de 1 paginas y con un total de 535 palabras.\nEl archivo Python - AWS.pdf contiene un total de 1 paginas y con un total de 254 palabras.\nEl archivo Python - Finance.pdf contiene un total de 1 paginas y con un total de 226 palabras.\n"
     ]
    }
   ],
   "source": [
    "#Cantidad de palabras por archivo\n",
    "listaPDF = listdir('taller2/python_books') \n",
    "catidadPalabras ={}\n",
    "for i in listaPDF:\n",
    "    palabra = 0\n",
    "    documento = fitz.open('taller2/python_books/'+i)\n",
    "    pagina = 0\n",
    "    for j in range(documento.pageCount):\n",
    "        pagina += len(documento.loadPage(0).getText().split())\n",
    "    catidadPalabras[i] = pagina\n",
    "    print(f\"El archivo {i} contiene un total de {documento.pageCount} paginas y con un total de {pagina} palabras.\")    "
   ]
  },
  {
   "cell_type": "code",
   "execution_count": null,
   "metadata": {},
   "outputs": [],
   "source": [
    "## El archivo con la mayor cantidad es archivo Python  Data Science Cookbook.pdf con un total de 535 palabras."
   ]
  }
 ],
 "metadata": {
  "kernelspec": {
   "display_name": "Python 3",
   "language": "python",
   "name": "python3"
  },
  "language_info": {
   "codemirror_mode": {
    "name": "ipython",
    "version": 3
   },
   "file_extension": ".py",
   "mimetype": "text/x-python",
   "name": "python",
   "nbconvert_exporter": "python",
   "pygments_lexer": "ipython3",
   "version": "3.7.9-final"
  }
 },
 "nbformat": 4,
 "nbformat_minor": 5
}