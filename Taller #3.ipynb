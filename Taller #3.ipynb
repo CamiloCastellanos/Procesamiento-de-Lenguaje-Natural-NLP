{
 "cells": [
  {
   "cell_type": "markdown",
   "metadata": {},
   "source": [
    "<img src='https://encrypted-tbn0.gstatic.com/images?q=tbn%3AANd9GcQ-VfNtOyJbsaxu43Kztf_cv1mgBG6ZIQZEVw&usqp=CAU'>\n",
    "\n",
    "# Procesamiento de Lenguaje Natural\n",
    "\n",
    "## Taller #3: Web Scraping\n",
    "`Fecha de entrega: Marzo 11, 2021. (Antes del inicio de la próxima clase).`"
   ]
  },
  {
   "cell_type": "markdown",
   "metadata": {},
   "source": [
    "# Punto 1:\n",
    "\n",
    "- `[15 pts]` Hacer Web Scraping de 10 animales en Wikipedia (en búcle)\n",
    "- `[10 pts]` Obtener el **encabezado** de cada animal\n",
    "- `[15 pts]` Obtener todos los **textos** que están en las etiquetas de negrilla del primer párrafo."
   ]
  },
  {
   "cell_type": "code",
   "execution_count": 1,
   "metadata": {},
   "outputs": [],
   "source": [
    "import bs4 as bs \n",
    "import urllib.request"
   ]
  },
  {
   "cell_type": "code",
   "execution_count": 41,
   "metadata": {},
   "outputs": [],
   "source": [
    "## Lista de Links de animales\n",
    "animales = [\n",
    "            \"https://es.wikipedia.org/wiki/Felis_silvestris_catus\",\n",
    "            \"https://es.wikipedia.org/wiki/Canis_familiaris\",\n",
    "            \"https://es.wikipedia.org/wiki/Psittacoidea\",\n",
    "            \"https://es.wikipedia.org/wiki/Ornithorhynchus_anatinus\",\n",
    "            \"https://es.wikipedia.org/wiki/Ara_(animal)\",\n",
    "            \"https://es.wikipedia.org/wiki/Selachimorpha\",\n",
    "            \"https://es.wikipedia.org/wiki/Elephantidae\",\n",
    "            \"https://es.wikipedia.org/wiki/Pongo\",\n",
    "            \"https://es.wikipedia.org/wiki/Equus_ferus_caballus\",\n",
    "            \"https://es.wikipedia.org/wiki/Delphinidae\",\n",
    "            ]"
   ]
  },
  {
   "cell_type": "code",
   "execution_count": 8,
   "metadata": {},
   "outputs": [],
   "source": [
    "## Obtención de htmls\n",
    "animalWiki=[]\n",
    "for i in animales:\n",
    "    request = urllib.request.Request(i, headers={'User-Agent': 'Mozilla/5.0'})\n",
    "    webpage = urllib.request.urlopen(request)\n",
    "    animalWiki.append(bs.BeautifulSoup(webpage.read(), 'html.parser'))\n",
    "    webpage.close()"
   ]
  },
  {
   "cell_type": "code",
   "execution_count": 50,
   "metadata": {
    "tags": []
   },
   "outputs": [
    {
     "output_type": "stream",
     "name": "stdout",
     "text": [
      "Animal # 1: Felis silvestris catus\nAnimal # 2: Canis familiaris\nAnimal # 3: Psittacoidea\nAnimal # 4: Ornithorhynchus anatinus\nAnimal # 5: Ara (animal)\nAnimal # 6: Selachimorpha\nAnimal # 7: Elephantidae\nAnimal # 8: Pongo\nAnimal # 9: Equus ferus caballus\nAnimal # 10: Delphinidae\n"
     ]
    }
   ],
   "source": [
    "## Obtencion de titulo de la pagina\n",
    "for i in range(len(animalWiki)):\n",
    "    print(f'Animal # {i+1}: {animalWiki[i].find(\"body\").find_all(\"h1\")[0].text}')"
   ]
  },
  {
   "cell_type": "code",
   "execution_count": 76,
   "metadata": {
    "tags": []
   },
   "outputs": [
    {
     "output_type": "stream",
     "name": "stdout",
     "text": [
      "El gato doméstico[1]​[2]​ (Felis silvestris catus), llamado popularmente gato, y de forma coloquial minino,[3]​ michino,[4]​ michi,[5]​ micho,[6]​ mizo,[7]​ miz,[8]​ morroño[9]​ o morrongo,[10]​ entre otros nombres, es un mamífero carnívoro de la familia Felidae. Es una subespecie domesticada por la convivencia con el ser humano. \n\nEl perro (Canis familiaris o Canis lupus familiaris dependiendo de si se lo considera una especie por derecho propio o una subespecie del lobo),[1]​[2]​[3]​ llamado perro doméstico o can,[4]​ y en algunos lugares coloquialmente llamado chucho,[5]​ tuso,[6]​ choco,[7]​ entre otros; es un mamífero carnívoro de la familia de los cánidos, que constituye una especie del género Canis.[8]​[9]​ En 2013, una población mundial estimada de perros estaba entre 700 millones y 987 millones[10]​[11]​ Su tamaño (o talla), su forma y pelaje es muy diverso según la raza. Posee un oído y olfato muy desarrollados, siendo este último su principal órgano sensorial. Su longevidad media es de 10 a 13 años,[12]​[13]​[14]​ dependiendo de la raza.\n\nPsittacidae\nPsittrichasiidae\nPsittaculidae\n\nÁrea de distribución (en rojo: nativo, en amarillo: introducido).[1]​\n\nLos guacamayos (Ara) son aves del orden Psittaciformes y de la familia Psittacidae, muy llamativas por el colorido de su plumaje. La Guacamaya roja es el ave nacional de Honduras.\n\nLos selaquimorfos o selacimorfos (Selachimorpha, del griego σελαχος, selachos, tiburón, y μορφή, morphé, forma) son un superorden de condrictios (peces cartilaginosos) conocidos comúnmente con el nombre de tiburones o escualos. Algunos grandes escualos, como el tiburón blanco y el toro, son conocidos a veces con el nombre de jaquetones.\n\nVéase el texto\n\nLos orangutanes (Pongo) son un género de primates homínidos que comprende tres especies de grandes simios originarios de Indonesia y Malasia. Al orangután de Borneo (Pongo pygmaeus) y al de Sumatra (Pongo abelii) se sumó en noviembre de 2017 una tercera especie, cuando se identificó y describió el orangután de Tapanuli (Pongo tapanuliensis).[2]​[3]​[4]​ Se distinguen de los simios africanos por el pelaje de color rojizo y una constitución más adaptada a la vida arbórea. Además, tienen el estilo de vida más solitario de todos los monos antropomorfos; únicamente existen lazos sociales duraderos entre madre y cría. No se quedan atrás, sin embargo, en cuanto a inteligencia. En su medio natural, fabrican y utilizan herramientas sofisticadas y muestran gran pericia construyendo nidos en los árboles. Se alimentan principalmente de fruta, aunque su dieta también incluye otros vegetales, miel, insectos, huevos de aves.\n\nEl caballo (Equus ferus caballus)[1]​[2]​ es un mamífero perisodáctilo domesticado de la familia de los équidos. Es un herbívoro perisodáctilo de gran porte, y cuello largo y arqueado poblado por largas crines.\n\nLos delfines (Delphinidae), llamados también delfines oceánicos para distinguirlos de los platanistoideos o delfines de río, son una familia de cetáceos odontocetos muy heterogénea, que comprende 37 especies actuales. Miden entre 2 y 8 metros de largo, con el cuerpo fusiforme y la cabeza de gran tamaño, el hocico alargado y solo un espiráculo en la parte superior de la cabeza (orificio respiratorio que muchos animales marinos tienen como contacto del aire o agua con su sistema respiratorio interno). Son carnívoros estrictos. Están entre las especies más inteligentes que habitan en el planeta. Se encuentran relativamente cerca de las costas y a menudo interactúan con el ser humano. Como otros cetáceos, los delfines utilizan los sonidos, la danza y el salto para comunicarse, orientarse y alcanzar sus presas; además utilizan la ecolocalización. Hoy en día, las principales amenazas a las que están expuestos son de naturaleza antrópica.\n\n"
     ]
    }
   ],
   "source": [
    "for i in animalWiki:\n",
    "    print(i.find(\"body\").find_all(\"p\")[0].text)"
   ]
  },
  {
   "cell_type": "code",
   "execution_count": 96,
   "metadata": {},
   "outputs": [
    {
     "output_type": "stream",
     "name": "stdout",
     "text": [
      "Felis silvestris catus: \ngato doméstico\nFelis silvestris catus\ngato\nminino\nmichino\nmichi\nmicho\nmizo\nmiz\nmorroño\nmorrongo\nCanis familiaris: \nperro\nCanis familiaris\nCanis lupus familiaris\nperro doméstico\ncan\nchucho\ntuso\nchoco\nPsittacoidea: \nOrnithorhynchus anatinus: \nAra (animal): \nguacamayos\nAra\nSelachimorpha: \nselaquimorfos\nselacimorfos\nSelachimorpha\ntiburones\nescualos\njaquetones\nElephantidae: \nPongo: \norangutanes\nPongo\nEquus ferus caballus: \ncaballo\nEquus ferus caballus\nDelphinidae: \ndelfines\nDelphinidae\ndelfines oceánicos\n"
     ]
    }
   ],
   "source": [
    "ltsNegrilla = []\n",
    "for i in animalWiki:\n",
    "    negrilla = i.find(\"body\").find_all(\"p\")[0].find_all(\"b\")\n",
    "    print(f'{i.find(\"body\").find_all(\"h1\")[0].text}: ')\n",
    "    for j in negrilla:\n",
    "        ltsNegrilla.append(j.text)\n",
    "        print(j.text)\n"
   ]
  },
  {
   "cell_type": "markdown",
   "metadata": {},
   "source": [
    "# Punto 2:\n",
    "- `[10 pts]` Usando regex, reemplazar todas las caracteres especiales del punto anterior (palabras en negrilla) por un asterisco (¡Ojo, los espacios se quedan!)\n"
   ]
  },
  {
   "cell_type": "code",
   "execution_count": 97,
   "metadata": {},
   "outputs": [],
   "source": [
    "import re"
   ]
  },
  {
   "cell_type": "code",
   "execution_count": 132,
   "metadata": {},
   "outputs": [
    {
     "output_type": "stream",
     "name": "stdout",
     "text": [
      "gato dom*stico\nFelis silvestris catus\ngato\nminino\nmichino\nmichi\nmicho\nmizo\nmiz\nmorro*o\nmorrongo\nperro\nCanis familiaris\nCanis lupus familiaris\nperro dom*stico\ncan\nchucho\ntuso\nchoco\nguacamayos\nAra\nselaquimorfos\nselacimorfos\nSelachimorpha\ntiburones\nescualos\njaquetones\norangutanes\nPongo\ncaballo\nEquus ferus caballus\ndelfines\nDelphinidae\ndelfines oce*nicos\n"
     ]
    }
   ],
   "source": [
    "patron = r'[á-ü]'\n",
    "for i in ltsNegrilla:\n",
    "    print(re.sub(patron , '*',i))\n"
   ]
  },
  {
   "cell_type": "code",
   "execution_count": 39,
   "metadata": {},
   "outputs": [
    {
     "name": "stdout",
     "output_type": "stream",
     "text": [
      "gato dom*stico\n",
      "Felis silvestris catus\n",
      "gato\n",
      "minino\n",
      "michino\n",
      "michi\n",
      "micho\n",
      "mizo\n",
      "miz\n",
      "morro*o\n",
      "morrongo\n"
     ]
    }
   ],
   "source": []
  }
 ],
 "metadata": {
  "kernelspec": {
   "display_name": "Python 3",
   "language": "python",
   "name": "python3"
  },
  "language_info": {
   "codemirror_mode": {
    "name": "ipython",
    "version": 3
   },
   "file_extension": ".py",
   "mimetype": "text/x-python",
   "name": "python",
   "nbconvert_exporter": "python",
   "pygments_lexer": "ipython3",
   "version": "3.7.9-final"
  }
 },
 "nbformat": 4,
 "nbformat_minor": 2
}